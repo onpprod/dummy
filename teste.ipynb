{
 "cells": [
  {
   "cell_type": "code",
   "execution_count": 1,
   "metadata": {},
   "outputs": [],
   "source": [
    "import os\n",
    "import time\n",
    "import numpy\n",
    "import openpyxl\n",
    "import subprocess\n",
    "path_ini = os.getcwd()\n",
    "path_in = path_ini+\"\\\\duck_in\"\n",
    "path_out = path_ini+\"\\\\duck_out\""
   ]
  },
  {
   "cell_type": "code",
   "execution_count": 2,
   "metadata": {},
   "outputs": [],
   "source": [
    "#------------------------------------------------------------------------------\n",
    "#------------------------------------------------------------------------------\n",
    "#funções\n",
    "#------------------------------------------------------------------------------\n",
    "#------------------------------------------------------------------------------\n",
    "def get_data (file_path):\n",
    "    o_file = open(file_path,'r')\n",
    "    file = o_file.read()\n",
    "    o_file.close()\n",
    "    return file\n",
    "#------------------------------------------------------------------------------\n",
    "#------------------------------------------------------------------------------\n",
    "#------------------------------------------------------------------------------\n",
    "def config_A ():\n",
    "    return 10\n",
    "#------------------------------------------------------------------------------\n",
    "#------------------------------------------------------------------------------\n",
    "#------------------------------------------------------------------------------\n",
    "def format_A ():\n",
    "    file_A = file\n",
    "    file_A = file_A.split('\\n')\n",
    "    for i in range(len(file_A)):\n",
    "        file_A[i]= file_A[i].split(\",\")\n",
    "    erro = 0\n",
    "    for i in range(len(file_A)):\n",
    "        if(len(file_A[i])!= 15):\n",
    "            print(\"Trecho a seguir foi deletado:\\n\",file_A[i],\"\\n\",\"...\")\n",
    "            file_A.remove(file_A[i])\n",
    "            erro += 1\n",
    "    if (erro==0):\n",
    "        print(\"Sucesso\")\n",
    "    return file_A\n",
    "#------------------------------------------------------------------------------\n",
    "#------------------------------------------------------------------------------\n",
    "#------------------------------------------------------------------------------\n",
    "def config_B ():\n",
    "    erro = 0\n",
    "    conf_import = \"0\"\n",
    "    while (not(conf_import in 'SN')):\n",
    "        conf_import = str(input('Importar configurações PAS?(S/N)\\nR:')).upper()\n",
    "        if(not(conf_import in 'SN')):\n",
    "            print('Responda com S ou N')\n",
    "        if(erro>5):\n",
    "            print('Número excessivo de entradas inválidas')\n",
    "            time.sleep(5)\n",
    "            raise Erro('Número excessivo de entradas inválidas')\n",
    "        erro+=1\n",
    "    if conf_import == 'S':\n",
    "        try:\n",
    "            conf = get_data('CONFIG_B.onp')\n",
    "            conf = conf.split('\\n')\n",
    "        except:\n",
    "            conf_import = 'N'\n",
    "            print('Configurações não encontradas\\n','Por favor insira manualmente os dados.\\n')\n",
    "    if conf_import == 'N':\n",
    "        numcods = int(input('Número de entradas para arquivos PAS:\\n'))\n",
    "        conf = list(numpy.zeros(numcods,dtype=str))\n",
    "        for i in range(numcods):\n",
    "            q = 'digite o código {}:'.format(i+1)\n",
    "            conf[i] = str(input(q)).upper()\n",
    "    return conf\n",
    "#------------------------------------------------------------------------------\n",
    "#------------------------------------------------------------------------------\n",
    "#------------------------------------------------------------------------------\n",
    "class Erro(Exception):\n",
    "    pass"
   ]
  },
  {
   "cell_type": "code",
   "execution_count": 3,
   "metadata": {},
   "outputs": [
    {
     "data": {
      "text/plain": [
       "10"
      ]
     },
     "execution_count": 3,
     "metadata": {},
     "output_type": "execute_result"
    }
   ],
   "source": [
    "config_A()"
   ]
  },
  {
   "cell_type": "code",
   "execution_count": 4,
   "metadata": {},
   "outputs": [],
   "source": [
    "entrada1 = 2"
   ]
  },
  {
   "cell_type": "code",
   "execution_count": null,
   "metadata": {},
   "outputs": [],
   "source": [
    "entrada1"
   ]
  },
  {
   "cell_type": "code",
   "execution_count": null,
   "metadata": {},
   "outputs": [],
   "source": [
    "os.path.getsize('C:\\\\Python27\\\\Lib\\\\genericpath.py')"
   ]
  },
  {
   "cell_type": "code",
   "execution_count": null,
   "metadata": {},
   "outputs": [],
   "source": []
  },
  {
   "cell_type": "code",
   "execution_count": null,
   "metadata": {},
   "outputs": [],
   "source": []
  },
  {
   "cell_type": "code",
   "execution_count": null,
   "metadata": {},
   "outputs": [],
   "source": []
  },
  {
   "cell_type": "code",
   "execution_count": null,
   "metadata": {},
   "outputs": [],
   "source": []
  },
  {
   "cell_type": "code",
   "execution_count": null,
   "metadata": {},
   "outputs": [],
   "source": []
  },
  {
   "cell_type": "code",
   "execution_count": null,
   "metadata": {},
   "outputs": [],
   "source": []
  },
  {
   "cell_type": "code",
   "execution_count": null,
   "metadata": {},
   "outputs": [],
   "source": []
  },
  {
   "cell_type": "code",
   "execution_count": null,
   "metadata": {},
   "outputs": [],
   "source": []
  },
  {
   "cell_type": "code",
   "execution_count": null,
   "metadata": {},
   "outputs": [],
   "source": []
  },
  {
   "cell_type": "code",
   "execution_count": null,
   "metadata": {},
   "outputs": [],
   "source": []
  },
  {
   "cell_type": "code",
   "execution_count": null,
   "metadata": {},
   "outputs": [],
   "source": []
  },
  {
   "cell_type": "code",
   "execution_count": null,
   "metadata": {},
   "outputs": [],
   "source": []
  }
 ],
 "metadata": {
  "kernelspec": {
   "display_name": "Python 3",
   "language": "python",
   "name": "python3"
  },
  "language_info": {
   "codemirror_mode": {
    "name": "ipython",
    "version": 3
   },
   "file_extension": ".py",
   "mimetype": "text/x-python",
   "name": "python",
   "nbconvert_exporter": "python",
   "pygments_lexer": "ipython3",
   "version": "3.8.5"
  }
 },
 "nbformat": 4,
 "nbformat_minor": 4
}
