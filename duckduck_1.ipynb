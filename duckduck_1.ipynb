{
 "cells": [
  {
   "cell_type": "code",
   "execution_count": null,
   "metadata": {},
   "outputs": [],
   "source": [
    "print(\"______               _    ______               _     _____             _   __  _ \" ) \n",
    "print(\"|  _  \\             | |   |  _  \\             | |   /  ___|           (_) / _|| | \") \n",
    "print(\"| | | | _   _   ___ | | __| | | | _   _   ___ | | __\\ `--.  __      __ _ | |_ | |_\" )\n",
    "print(\"| | | || | | | / __|| |/ /| | | || | | | / __|| |/ / `--. \\\\ \\\\ \\ /\\ / /| ||  _|| __|\")\n",
    "print(\"| |/ / | |_| || (__ |   < | |/ / | |_| || (__ |   < /\\__/ /  \\ V  V / | || |  | |_ \")\n",
    "print(\"|___/   \\__,_| \\___||_|\\_\\|___/   \\__,_| \\___||_|\\_\\\\\\____/    \\_/\\_/  |_||_|   \\__|\")\n",
    "print(\"by:onpprod\")"
   ]
  },
  {
   "cell_type": "code",
   "execution_count": null,
   "metadata": {},
   "outputs": [],
   "source": [
    "#------------------------------------------------------------------------------\n",
    "#inicializando\n",
    "#------------------------------------------------------------------------------\n",
    "import os\n",
    "import time\n",
    "import numpy\n",
    "import openpyxl\n",
    "import subprocess\n",
    "path_ini = os.getcwd()\n",
    "path_in = path_ini+\"\\\\duck_in\"\n",
    "path_out = path_ini+\"\\\\duck_out\""
   ]
  },
  {
   "cell_type": "code",
   "execution_count": null,
   "metadata": {},
   "outputs": [],
   "source": [
    "#------------------------------------------------------------------------------\n",
    "#funções\n",
    "#------------------------------------------------------------------------------\n",
    "\n",
    "def get_data (file_path):\n",
    "    o_file = open(file_path,'r')\n",
    "    file = o_file.read()\n",
    "    o_file.close()\n",
    "    return file\n",
    "def format_A (file):\n",
    "    file_A = file\n",
    "    file_A = file_A.split('\\n')\n",
    "    for i in range(len(file_A)):\n",
    "        file_A[i]= file_A[i].split(\",\")\n",
    "    erro = 0\n",
    "    for i in range(len(file_A)):\n",
    "        if(len(file_A[i])!= 15):\n",
    "            print(file_A[i])\n",
    "            file_A.remove(file_A[i])\n",
    "            erro += 1\n",
    "            print(\"Erro Format_A: \",erro)\n",
    "    if (erro==0):\n",
    "        print(\"Sucesso\")\n",
    "    return file_A\n",
    "\n",
    "\n",
    "class Erro(Exception):\n",
    "    pass"
   ]
  },
  {
   "cell_type": "code",
   "execution_count": null,
   "metadata": {},
   "outputs": [],
   "source": [
    "path_ini"
   ]
  },
  {
   "cell_type": "code",
   "execution_count": null,
   "metadata": {},
   "outputs": [],
   "source": [
    "#------------------------------------------------------------------------------\n",
    "#verificação de path\n",
    "#------------------------------------------------------------------------------\n",
    "\n",
    "if(not(os.path.exists(path_ini+'//duck_in'))):\n",
    "    os.mkdir(path_ini+'//duck_in')\n",
    "    print(\"Pasta duck_in criada com sucesso!\")\n",
    "else:\n",
    "    print(\"Pasta duck_in encontrada.\")\n",
    "if(not(os.path.exists(path_ini+'//duck_out'))):\n",
    "    os.mkdir(path_ini+'//duck_out')\n",
    "    print(\"Pasta duck_out criada com sucesso!\")\n",
    "else:\n",
    "    print(\"Pasta duck_out encontrada.\")"
   ]
  },
  {
   "cell_type": "code",
   "execution_count": null,
   "metadata": {},
   "outputs": [],
   "source": [
    "\n",
    "print(\"Despeje os arquivos desejados pasta \\033[36mduck_in \")\n",
    "print(\"\\033[0;0mUma janela será aberta automaticamente\")\n",
    "subprocess.Popen('explorer {}'.format(path_ini+\"\\\\duck_in\"))\n",
    "print(\"Pressione Enter para executar...\")\n",
    "espera = input()\n",
    "espera = 0\n"
   ]
  },
  {
   "cell_type": "code",
   "execution_count": null,
   "metadata": {},
   "outputs": [],
   "source": []
  },
  {
   "cell_type": "code",
   "execution_count": null,
   "metadata": {},
   "outputs": [],
   "source": [
    "len(os.listdir())"
   ]
  },
  {
   "cell_type": "code",
   "execution_count": null,
   "metadata": {},
   "outputs": [],
   "source": [
    "os.chdir(path_ini+\"\\\\duck_in\")"
   ]
  },
  {
   "cell_type": "code",
   "execution_count": null,
   "metadata": {},
   "outputs": [],
   "source": []
  },
  {
   "cell_type": "code",
   "execution_count": null,
   "metadata": {},
   "outputs": [],
   "source": [
    "path_ini"
   ]
  },
  {
   "cell_type": "code",
   "execution_count": null,
   "metadata": {},
   "outputs": [],
   "source": [
    "os.chdir(path_in)"
   ]
  },
  {
   "cell_type": "code",
   "execution_count": null,
   "metadata": {},
   "outputs": [],
   "source": [
    "teste = get_data(path_in+'\\\\Load Profile for MW-1303A149-01.csv')"
   ]
  },
  {
   "cell_type": "code",
   "execution_count": null,
   "metadata": {},
   "outputs": [],
   "source": [
    "teste = format_A(teste)"
   ]
  },
  {
   "cell_type": "code",
   "execution_count": null,
   "metadata": {},
   "outputs": [],
   "source": [
    "print(type(teste))\n",
    "print(len(teste))\n"
   ]
  },
  {
   "cell_type": "code",
   "execution_count": null,
   "metadata": {},
   "outputs": [],
   "source": []
  },
  {
   "cell_type": "code",
   "execution_count": null,
   "metadata": {},
   "outputs": [],
   "source": []
  },
  {
   "cell_type": "code",
   "execution_count": null,
   "metadata": {},
   "outputs": [],
   "source": []
  },
  {
   "cell_type": "code",
   "execution_count": null,
   "metadata": {},
   "outputs": [],
   "source": []
  },
  {
   "cell_type": "code",
   "execution_count": null,
   "metadata": {},
   "outputs": [],
   "source": []
  },
  {
   "cell_type": "code",
   "execution_count": null,
   "metadata": {},
   "outputs": [],
   "source": []
  },
  {
   "cell_type": "code",
   "execution_count": null,
   "metadata": {},
   "outputs": [],
   "source": []
  },
  {
   "cell_type": "code",
   "execution_count": null,
   "metadata": {},
   "outputs": [],
   "source": []
  },
  {
   "cell_type": "code",
   "execution_count": null,
   "metadata": {},
   "outputs": [],
   "source": []
  },
  {
   "cell_type": "code",
   "execution_count": null,
   "metadata": {},
   "outputs": [],
   "source": []
  },
  {
   "cell_type": "code",
   "execution_count": null,
   "metadata": {},
   "outputs": [],
   "source": []
  },
  {
   "cell_type": "code",
   "execution_count": null,
   "metadata": {},
   "outputs": [],
   "source": []
  },
  {
   "cell_type": "code",
   "execution_count": null,
   "metadata": {},
   "outputs": [],
   "source": []
  },
  {
   "cell_type": "code",
   "execution_count": null,
   "metadata": {},
   "outputs": [],
   "source": []
  }
 ],
 "metadata": {
  "kernelspec": {
   "display_name": "Python 3",
   "language": "python",
   "name": "python3"
  },
  "language_info": {
   "codemirror_mode": {
    "name": "ipython",
    "version": 3
   },
   "file_extension": ".py",
   "mimetype": "text/x-python",
   "name": "python",
   "nbconvert_exporter": "python",
   "pygments_lexer": "ipython3",
   "version": "3.8.5"
  }
 },
 "nbformat": 4,
 "nbformat_minor": 4
}
